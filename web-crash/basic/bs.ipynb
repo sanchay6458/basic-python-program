{
 "cells": [
  {
   "cell_type": "code",
   "execution_count": 1,
   "metadata": {},
   "outputs": [
    {
     "name": "stdout",
     "output_type": "stream",
     "text": [
      "hello master\n",
      "5\n",
      "<class 'int'>\n"
     ]
    }
   ],
   "source": [
    "#this is first program in python for printing hello word nad addition\n",
    "print(\"hello master\")\n",
    "a=5\n",
    "b=3\n",
    "c=a+b\n",
    "print(a) # print() funtion:- In python, print() is use to print the value which is written in inside print() function. \n",
    "print(type(a)) # type() funtion:- The type() function in Python returns the data type of the object passed to it as an argument."
   ]
  },
  {
   "cell_type": "code",
   "execution_count": 3,
   "metadata": {},
   "outputs": [
    {
     "name": "stdout",
     "output_type": "stream",
     "text": [
      "15\n",
      "3\n",
      "Sanchay\n"
     ]
    }
   ],
   "source": [
    "# Statements and Comment\n",
    "#Statement:- It is an instruction that the python interpreter can executed.\n",
    "# For Example:-\n",
    "a=10\n",
    "b=5\n",
    "c=2\n",
    "d=\"Sanchay\"\n",
    "print(a+b)\n",
    "print(b-c)\n",
    "print(d)  "
   ]
  },
  {
   "cell_type": "code",
   "execution_count": 7,
   "metadata": {},
   "outputs": [
    {
     "name": "stdout",
     "output_type": "stream",
     "text": [
      "Such a comment starts with a hash character (#), and is followed by text that contains further explanations.\n"
     ]
    }
   ],
   "source": [
    "# Comments:- Comments in Python are the lines in the code that are ignored by the compiler during the execution of the program.\n",
    "# For Example:- #this is comment\n",
    "print('Such a comment starts with a hash character (#), and is followed by text that contains further explanations.')\n"
   ]
  },
  {
   "cell_type": "code",
   "execution_count": 9,
   "metadata": {},
   "outputs": [],
   "source": [
    "#Data Type in python:-\n",
    "# 1. Numeric Data Type\n",
    "# 2. String Data Type\n",
    "# 3. Boolean Data Type"
   ]
  },
  {
   "cell_type": "code",
   "execution_count": 26,
   "metadata": {},
   "outputs": [
    {
     "name": "stdout",
     "output_type": "stream",
     "text": [
      "4 10 100 -10\n",
      "1.2 -3.2 100.2\n",
      "7 5\n",
      "(4+10j)\n"
     ]
    }
   ],
   "source": [
    "# 1. Numeric Data Type:-\n",
    "# (a). int (integer):- In Python, integers are zero, positive or negative whole numbers without a fractional part and having unlimited precision, e.g. 0, 100, -10.\n",
    "a= 4\n",
    "b=10\n",
    "c=100\n",
    "d= -10\n",
    "print(a,b,c,d) #multivalue printed\n",
    "\n",
    "# (b). float :- In python, float is contain decimal pint in the reals number. e.g 10.2, 2.5, -5.7 etc.\n",
    "e=1.2\n",
    "f=-3.2\n",
    "g=100.2\n",
    "print(e,f,g)\n",
    "# (c). complex :-A complex number has two parts, real part and imaginary part. Complex numbers are represented as A+Bi or A+Bj , where A is real part and B is imaginary part.\n",
    "h=3+4\n",
    "i=3+2\n",
    "#print(a,b) :-in python, directly complex not using, because it is syntax error. you can use complex then you assing complex() function.\n",
    "#k=complex(h,i)\n",
    "print(h,i) #this is not true for complex data typle\n",
    "print(complex(a,b))"
   ]
  },
  {
   "cell_type": "code",
   "execution_count": 28,
   "metadata": {},
   "outputs": [
    {
     "name": "stdout",
     "output_type": "stream",
     "text": [
      "Type of a:  <class 'int'>\n",
      "\n",
      "Type of b:  <class 'float'>\n",
      "\n",
      "Type of c:  <class 'complex'>\n"
     ]
    }
   ],
   "source": [
    "#Some examples for assingment\n",
    "#numeric data types\n",
    "#int\n",
    "#float\n",
    "#complex\n",
    "a = 10\n",
    "print(\"Type of a: \", type(a)) # type() function:- In python type() function use to give the data type information which is store in a variable. It means in a variable there are different tada store so the user can see which data typle store in variable by using type() funtion. \n",
    "b = 2.0\n",
    "print(\"\\nType of b: \", type(b))\n",
    "c = 5 + 6j\n",
    "print(\"\\nType of c: \", type(c))"
   ]
  },
  {
   "cell_type": "code",
   "execution_count": 31,
   "metadata": {},
   "outputs": [
    {
     "name": "stdout",
     "output_type": "stream",
     "text": [
      "apple\n",
      "25\n",
      "1234.5\n",
      "30862.5\n",
      "<class 'str'>\n",
      "<class 'int'>\n",
      "<class 'float'>\n",
      "<class 'float'>\n"
     ]
    }
   ],
   "source": [
    "# redeclaring the var\n",
    "name = \"apple\"\n",
    "kg = 25\n",
    "price = 1234.5\n",
    "total = kg * price\n",
    "\n",
    "# display\n",
    "print(name)\n",
    "print(kg)\n",
    "print(price)\n",
    "print(total)\n",
    "\n",
    "# Data type Show\n",
    "print(type(name))\n",
    "print(type(kg))\n",
    "print(type(price))\n",
    "print(type(total))"
   ]
  },
  {
   "cell_type": "code",
   "execution_count": 35,
   "metadata": {},
   "outputs": [
    {
     "name": "stdout",
     "output_type": "stream",
     "text": [
      "Principle= 2\n",
      "Time= 3.0\n",
      "Rate= 36.0\n",
      "Simple Interest is =  2.16\n",
      "<class 'float'>\n"
     ]
    }
   ],
   "source": [
    "# Simle interest program\n",
    "p = int(input(\"enter the principle\")) # int() funtion:- In python int() function is use to convert any type of data in integer value which is written inside int() function.\n",
    "                                      #input() function\"- In python, input() function is use to take the data input from the user.\n",
    "t = float(input(\"enter the time\"))\n",
    "r = float(input(\"enter the rate\"))\n",
    "print(\"Principle=\", p)\n",
    "print(\"Time=\", t)\n",
    "print(\"Rate=\", r)\n",
    "si= (p*t*r)/100\n",
    "print(\"Simple Interest is = \",si)\n",
    "print(type(si))"
   ]
  },
  {
   "cell_type": "code",
   "execution_count": 37,
   "metadata": {},
   "outputs": [
    {
     "name": "stdout",
     "output_type": "stream",
     "text": [
      "6458\n",
      "6458\n",
      "6458\n",
      "6458\n",
      "6458\n",
      "6458\n",
      "6458\n"
     ]
    }
   ],
   "source": [
    "#Assigning a single value to multiple variables:\n",
    "s=a=n=c=h=a=y=6458\n",
    "print(s)\n",
    "print(a)\n",
    "print(n)\n",
    "print(c)\n",
    "print(h)\n",
    "print(a)\n",
    "print(y)"
   ]
  },
  {
   "cell_type": "code",
   "execution_count": 39,
   "metadata": {},
   "outputs": [
    {
     "name": "stdout",
     "output_type": "stream",
     "text": [
      "4 6 nil\n"
     ]
    }
   ],
   "source": [
    "#Assigning different values to multiple variables:\n",
    "s,a,n = 4,6,\"nil\"\n",
    "print(s,a,n)"
   ]
  },
  {
   "cell_type": "code",
   "execution_count": 41,
   "metadata": {},
   "outputs": [
    {
     "name": "stdout",
     "output_type": "stream",
     "text": [
      "good\n"
     ]
    }
   ],
   "source": [
    "#Can we use the same name for different types?\n",
    "name= 'smart'\n",
    "name= 'good'\n",
    "print(name)\n",
    "# in this code we are assing different value in a sinle variable then that variable store only last assing value.\n"
   ]
  },
  {
   "cell_type": "code",
   "execution_count": 45,
   "metadata": {},
   "outputs": [
    {
     "name": "stdout",
     "output_type": "stream",
     "text": [
      "520\n",
      "70\n"
     ]
    }
   ],
   "source": [
    "#How does + operator work with variables?\n",
    "n='5' #this is string because we are written a value in a sinle quote.\n",
    "s= '20'\n",
    "p= n + s\n",
    "print(p)\n",
    "a = 40\n",
    "b = 30\n",
    "print(a+b)"
   ]
  },
  {
   "cell_type": "code",
   "execution_count": 47,
   "metadata": {},
   "outputs": [
    {
     "ename": "TypeError",
     "evalue": "unsupported operand type(s) for +: 'int' and 'str'",
     "output_type": "error",
     "traceback": [
      "\u001b[1;31m---------------------------------------------------------------------------\u001b[0m",
      "\u001b[1;31mTypeError\u001b[0m                                 Traceback (most recent call last)",
      "\u001b[1;32m~\\AppData\\Local\\Temp/ipykernel_8008/1692872270.py\u001b[0m in \u001b[0;36m<module>\u001b[1;34m\u001b[0m\n\u001b[0;32m      2\u001b[0m \u001b[0ma\u001b[0m \u001b[1;33m=\u001b[0m \u001b[1;36m10\u001b[0m\u001b[1;33m\u001b[0m\u001b[1;33m\u001b[0m\u001b[0m\n\u001b[0;32m      3\u001b[0m \u001b[0mb\u001b[0m \u001b[1;33m=\u001b[0m \u001b[1;34m\"smart\"\u001b[0m\u001b[1;33m\u001b[0m\u001b[1;33m\u001b[0m\u001b[0m\n\u001b[1;32m----> 4\u001b[1;33m \u001b[0mprint\u001b[0m\u001b[1;33m(\u001b[0m\u001b[0ma\u001b[0m\u001b[1;33m+\u001b[0m\u001b[0mb\u001b[0m\u001b[1;33m)\u001b[0m\u001b[1;33m\u001b[0m\u001b[1;33m\u001b[0m\u001b[0m\n\u001b[0m\u001b[0;32m      5\u001b[0m \u001b[1;31m# in this code occured error because we are not adding interger value and string.\u001b[0m\u001b[1;33m\u001b[0m\u001b[1;33m\u001b[0m\u001b[0m\n",
      "\u001b[1;31mTypeError\u001b[0m: unsupported operand type(s) for +: 'int' and 'str'"
     ]
    }
   ],
   "source": [
    "#Can we use + for different types also?\n",
    "a = 10\n",
    "b = \"smart\"\n",
    "print(a+b)\n",
    "# in this code occured error because we are not adding interger value and string.\n"
   ]
  },
  {
   "cell_type": "code",
   "execution_count": 51,
   "metadata": {},
   "outputs": [
    {
     "name": "stdout",
     "output_type": "stream",
     "text": [
      "Hello, sanchay\n",
      "<class 'str'>\n",
      "age is  21\n"
     ]
    }
   ],
   "source": [
    "#input() →to get user input\n",
    "#we store/catch input result in a variable\n",
    "#the result returned from input() is always a str, so we may need to type convert the result according to our need.\n",
    "#print() →to print anything that is inside print() inside “ ..here.. ” to the console/terminal\n",
    "\n",
    "#Python get user input with a message\n",
    "# Taking input from the user\n",
    "name = input(\"Enter your name: \")\n",
    "# Output\n",
    "print(\"Hello, \" + name)\n",
    "print(type(name))\n",
    "\n",
    "#Integer input in Python\n",
    "# Taking input from the user as integer\n",
    "age = int(input(\"Enter a age: \"))\n",
    "add = age + 1\n",
    "# Output\n",
    "print(\"age is \",add)"
   ]
  },
  {
   "cell_type": "code",
   "execution_count": 55,
   "metadata": {},
   "outputs": [
    {
     "name": "stdout",
     "output_type": "stream",
     "text": [
      "sanchay\n",
      "s a n c h a y\n",
      "smart@\n",
      "s##m##a##t\n"
     ]
    }
   ],
   "source": [
    "#Python Print Output\n",
    "# print() method\n",
    "print(\"sanchay\")\n",
    "# code for disabling the softspace feature\n",
    "print('s','a','n','c','h','a','y')\n",
    "\n",
    "#Python Print output with custom sep and end parameter\n",
    "print(\"smart\", end=\"@\" )\n",
    "print()\n",
    "print('s','','m','','a','','t' ,sep=\"#\")"
   ]
  },
  {
   "cell_type": "code",
   "execution_count": 68,
   "metadata": {},
   "outputs": [
    {
     "name": "stdout",
     "output_type": "stream",
     "text": [
      "Hello Python Master\n",
      "Hello Python Master\n",
      "Hello Python Master\n",
      "5 6\n",
      "5+6 \n",
      "The value of a is 5 and b is 70\n",
      "The value of b is 70 and a is 5\n",
      "The value of a is 5 and b is 70\n",
      "The value of a is 70 and b is 5\n"
     ]
    }
   ],
   "source": [
    "#Formatting output\n",
    "#format() method :-\n",
    "#f-strings method\n",
    "\n",
    "#Python String formatting using F string and format()\n",
    "a = \"Hello\"\n",
    "b = \"Python\"\n",
    "c = \"Master\"\n",
    "d=5\n",
    "e=6\n",
    "print(a,b,c)\n",
    "print('{} {} {}'.format(a,b,c))\n",
    "print(f\"{a} {b} {c}\")\n",
    "print('{} {}'.format(d,e))\n",
    "print(f\"{d}+{e} \")\n",
    "# in pythone format() and f\"{string value or variable}\" use to print only string format you can give any type of data.\n",
    " \n",
    "a = 5 # this line is 0 \n",
    "b = 70 # this line is 1  (increasing)\n",
    "print('The value of a is {0} and b is {1}'.format(a,b))\n",
    "print('The value of b is {1} and a is {0}'.format(a,b)) #in this code value are change\n",
    "print(f'The value of a is {a} and b is {b}')\n",
    "print(f'The value of a is {b} and b is {a}')"
   ]
  },
  {
   "cell_type": "code",
   "execution_count": 70,
   "metadata": {},
   "outputs": [
    {
     "name": "stdout",
     "output_type": "stream",
     "text": [
      "master\n",
      "master\n",
      "master\n",
      "master\n",
      "s\n",
      "y\n"
     ]
    }
   ],
   "source": [
    "#Sequence(string,list,tuple)\n",
    "#ordered collection of similar or different data types\n",
    "#str, list →[ ] , tuple → ( )\n",
    "#str(), list(), tuple()\n",
    "\n",
    "#string\n",
    "#ordered collections of character. e.g sanchay, smart , good etc\n",
    "#have index i.e can be accessed using indexing. e.g indexing started left to right with stated 0 to  increase value 1.\n",
    "        # for example:- Sanchay (indexing) is:- S=0, a=1, n=2, c=3, h=4, a=5, y=6\n",
    "        # By using reverse indexing right to left with -1,-2,-3 etc. example:- good (inverse):- g= -1 ,o= -2 , o= -3, d= -4\n",
    "#is immutable i.e cannot be modified after created\n",
    "\n",
    "#sequence data types\n",
    "#string\n",
    "#creating a string\n",
    "s = 'master' #string\n",
    "s1 = \"master\" #string\n",
    "s2 = '''master''' #string\n",
    "s3 = \"\"\"master\"\"\" #string\n",
    "print(s)\n",
    "print(s1)\n",
    "print(s2)\n",
    "print(s3)\n",
    "\n",
    "#Accessing elements of String\n",
    "s = \"sanchay\"\n",
    "print(s[0])\n",
    "print(s[-1])\n"
   ]
  },
  {
   "cell_type": "code",
   "execution_count": 78,
   "metadata": {},
   "outputs": [
    {
     "name": "stdout",
     "output_type": "stream",
     "text": [
      "[1, 2, 'smart', 4, 5]\n",
      "1\n",
      "smart\n",
      "5\n",
      "<class 'list'>\n"
     ]
    }
   ],
   "source": [
    "#list\n",
    "#ordered collection of data/items/values i.e 2,3,smart etc\n",
    "#ordered →means having index i.e [0][1][2][3]\n",
    "#any type of data inside list i.e integer, float, string\n",
    "#is mutable i.e can be modified after created \n",
    "#list → [ ] or using list()\n",
    "\n",
    "#list\n",
    "l = [1,2,'smart',4,5]\n",
    "print(l)\n",
    "print(l[0])\n",
    "print(l[-3])\n",
    "print(l[-1])\n",
    "print(type(l))"
   ]
  },
  {
   "cell_type": "code",
   "execution_count": 76,
   "metadata": {},
   "outputs": [
    {
     "name": "stdout",
     "output_type": "stream",
     "text": [
      "['Sanchay', 'Dev', 'upadhyay', 1997, 2000]\n"
     ]
    }
   ],
   "source": [
    "List = ['Sanchay', 'Dev', 1997, 2000]\n",
    "# Insert at index 2 value upadhyay\n",
    "List.insert(2,'upadhyay')  # .insert is use to replace the value by using index number.    \n",
    "print(List)  "
   ]
  },
  {
   "cell_type": "code",
   "execution_count": 84,
   "metadata": {},
   "outputs": [
    {
     "name": "stdout",
     "output_type": "stream",
     "text": [
      "['Nil', 'Miss', 1997, 2000, 'good']\n"
     ]
    }
   ],
   "source": [
    "# Adds List Element as value of List.\n",
    "List = ['Nil', 'Miss', 1997, 2000]\n",
    "# add value in list\n",
    "List.append('good')\n",
    "print(List)\n",
    "#value = int(input('Enter the Date Of Birth DD-MM-YYYY'))\n",
    "#list.append(value)\n",
    "#print(List)"
   ]
  },
  {
   "cell_type": "code",
   "execution_count": 93,
   "metadata": {},
   "outputs": [
    {
     "name": "stdout",
     "output_type": "stream",
     "text": [
      "[1, 2, 3, 2, 3, 4, 5]\n",
      "[2, 3, 4, 5, 2, 3, 4, 5]\n",
      "15\n"
     ]
    }
   ],
   "source": [
    "#extend(): Adds contents to List2 to the end of List1\n",
    "List1 = [1, 2, 3]\n",
    "List2 = [2, 3, 4, 5]\n",
    "  \n",
    "# Add List2 to List1\n",
    "List1.extend(List2) # in this code write list1 and list2 value in one line        \n",
    "print(List1)\n",
    "  \n",
    "# Add List1 to List2 now\n",
    "List2.extend(List2) \n",
    "print(List2)\n",
    "\n",
    "\n",
    "\n",
    "#sum() : Calculates sum of all the elements of List.\n",
    "List = [1, 2, 3, 4, 5]\n",
    "print(sum(List)) #add all value inside list\n",
    "\n",
    "#count():Calculates total occurrence of given element of List.\n",
    "List = [1, 2, 3, 1, 2, 1, 2, 3, 2, 1]\n",
    "print(List.count(1)) #it doesn't count duplicate value."
   ]
  },
  {
   "cell_type": "code",
   "execution_count": null,
   "metadata": {},
   "outputs": [],
   "source": []
  }
 ],
 "metadata": {
  "interpreter": {
   "hash": "425c3147bdf2fb36237404c004292e2189cd3e10def4ffcd2833c9f12b0efa60"
  },
  "kernelspec": {
   "display_name": "Python 3.9.8 64-bit",
   "language": "python",
   "name": "python3"
  },
  "language_info": {
   "codemirror_mode": {
    "name": "ipython",
    "version": 3
   },
   "file_extension": ".py",
   "mimetype": "text/x-python",
   "name": "python",
   "nbconvert_exporter": "python",
   "pygments_lexer": "ipython3",
   "version": "3.9.8"
  },
  "orig_nbformat": 4
 },
 "nbformat": 4,
 "nbformat_minor": 2
}
