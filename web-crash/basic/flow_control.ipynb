{
 "cells": [
  {
   "cell_type": "code",
   "execution_count": 1,
   "metadata": {},
   "outputs": [
    {
     "name": "stdout",
     "output_type": "stream",
     "text": [
      "True\n",
      "False\n"
     ]
    }
   ],
   "source": [
    "# Control Flow (loops, conditionals)\n",
    "\n",
    "#Boolean expression\n",
    "i = 20\n",
    "j = 15\n",
    "print(i > 8)\n",
    "print(i==20 and j < 3)"
   ]
  },
  {
   "cell_type": "code",
   "execution_count": 1,
   "metadata": {},
   "outputs": [
    {
     "name": "stdout",
     "output_type": "stream",
     "text": [
      "False\n",
      "True\n"
     ]
    }
   ],
   "source": [
    "\n",
    "n1 = input('enter the first valur')\n",
    "n2 = input('enter the second valur')\n",
    "print(n1>n2)\n",
    "print(n1<n2)"
   ]
  },
  {
   "cell_type": "code",
   "execution_count": 4,
   "metadata": {},
   "outputs": [
    {
     "name": "stdout",
     "output_type": "stream",
     "text": [
      "i is greater than 15\n",
      "i'm in else Block\n",
      "i'm not in if and not in else Block\n"
     ]
    }
   ],
   "source": [
    "# # indentation\n",
    "\n",
    "# # if..else statement\n",
    "\n",
    "# Syntax\n",
    "# if (boolean_expression/condition):\n",
    "    #  Executes this block if\n",
    "    #  condition is true\n",
    "# else:\n",
    "    #  Executes this block if\n",
    "    #  condition is false\n",
    "\n",
    "# Example:-\n",
    "\n",
    "i = 20\n",
    "if (i < 15):\n",
    "    print(\"i is smaller than 15\")\n",
    "    print(\"i'm in if Block\")\n",
    "else:\n",
    "    print(\"i is greater than 15\")\n",
    "    print(\"i'm in else Block\")\n",
    "print(\"i'm not in if and not in else Block\")"
   ]
  },
  {
   "cell_type": "code",
   "execution_count": 6,
   "metadata": {},
   "outputs": [
    {
     "name": "stdout",
     "output_type": "stream",
     "text": [
      "Login Succesfully\n"
     ]
    }
   ],
   "source": [
    "# Login proses\n",
    "user_name = input('enter the Usename/Email')\n",
    "password = input('enter the password')\n",
    "if (user_name == 'sanchay' and password == 'master'):\n",
    "    print('Login Succesfully')\n",
    "else:\n",
    "    print('wrong user_name and password')\n",
    "    "
   ]
  },
  {
   "cell_type": "code",
   "execution_count": 8,
   "metadata": {},
   "outputs": [
    {
     "name": "stdout",
     "output_type": "stream",
     "text": [
      "Total Mark 336\n",
      "Percentage 67.2\n",
      " Congratulatrion You Are Pass\n",
      "B Grade\n"
     ]
    }
   ],
   "source": [
    "# Student result sheet\n",
    "math = int(input(' Enter the math mark'))\n",
    "eng = int(input(' Enter the english mark'))\n",
    "science = int(input(' Enter the science mark'))\n",
    "social = int(input(' Enter the social mark'))\n",
    "health = int(input(' Enter the health and population mark'))\n",
    "total = math + eng + science + social + health\n",
    "percent = (total * 100) / 500\n",
    "print('Total Mark', total)\n",
    "print('Percentage', percent)\n",
    "if (math >= 40 and eng >= 40 and science >= 40 and social >= 40 and health >= 40):\n",
    "    print(' Congratulatrion You Are Pass')\n",
    "    if (percent >= 90):\n",
    "        print('A+ Grade')\n",
    "    elif (percent >= 80 and percent < 90):\n",
    "        print('A Grade')\n",
    "    elif (percent >= 70 and percent < 80):\n",
    "        print('B+ Grade')\n",
    "    elif (percent >= 60 and percent < 70):\n",
    "        print('B Grade')\n",
    "    elif (percent >= 50 and percent < 60):\n",
    "        print('C+ Grade')\n",
    "    elif (percent >= 40 and percent < 50):\n",
    "        print('C Grade')\n",
    "    elif (percent >= 35 and percent < 40):\n",
    "        print('D+ Grade')\n",
    "    else:\n",
    "        print('D Grade')\n",
    "\n",
    "else:\n",
    "    print('Sorry You are failed')\n"
   ]
  },
  {
   "cell_type": "code",
   "execution_count": 10,
   "metadata": {},
   "outputs": [
    {
     "name": "stdout",
     "output_type": "stream",
     "text": [
      "i is not present\n"
     ]
    }
   ],
   "source": [
    "# if..elif..else\n",
    "\n",
    "# syntax\n",
    "# if (condition):\n",
    "    # statement\n",
    "# elif (condition):\n",
    "    # statement\n",
    "# .\n",
    "# .\n",
    "# else:\n",
    "    # statement\n",
    "\n",
    "# Python program to illustrate if-elif-else ladder\n",
    "i = 40\n",
    "if (i == 10):\n",
    "    print(\"i is 10\")\n",
    "elif (i == 15):\n",
    "    print(\"i is 15\")\n",
    "elif (i == 20):\n",
    "    print(\"i is 20\")\n",
    "else:\n",
    "    print(\"i is not present\")"
   ]
  },
  {
   "cell_type": "code",
   "execution_count": 2,
   "metadata": {},
   "outputs": [
    {
     "name": "stdout",
     "output_type": "stream",
     "text": [
      "Hello\n",
      "Python\n",
      "Devloper\n",
      "Master\n",
      "Hello\n",
      "Python\n",
      "Devloper\n",
      "Master\n",
      "S\n",
      "m\n",
      "a\n",
      "r\n",
      "t\n",
      " \n",
      "B\n",
      "o\n",
      "y\n",
      "a : bad\n",
      "\n",
      "b : good\n",
      "\n",
      "c : 30\n",
      "\n"
     ]
    }
   ],
   "source": [
    "# for loop\n",
    "# syntax\n",
    "\n",
    "# for var in iterable:\n",
    "    # # statements\n",
    "\n",
    "# Examples:-\n",
    "# Python program to illustrate\n",
    "# Iterating over a list\n",
    "l = [\"Hello\", \"Python\", \"Devloper\" , \"Master\"]\n",
    "for i in l:\n",
    "    print(i)\n",
    "# Iterating over a tuple (immutable)\n",
    "t = (\"Hello\", \"Python\", \"Devloper\" , \"Master\")\n",
    "for i in t:\n",
    "    print(i)\n",
    "# Iterating over a String\n",
    "s = \"Smart Boy\"\n",
    "for i in s:\n",
    "    print(i)\n",
    "# Iterating over dictionary\n",
    "d = {'a': 'bad', 'b': 'good', 'c': 30}\n",
    "for i in d:\n",
    "    print(f\"{i} : {d[i]}\")\n",
    "    print()"
   ]
  },
  {
   "cell_type": "code",
   "execution_count": 15,
   "metadata": {},
   "outputs": [
    {
     "ename": "TypeError",
     "evalue": "'int' object is not iterable",
     "output_type": "error",
     "traceback": [
      "\u001b[1;31m---------------------------------------------------------------------------\u001b[0m",
      "\u001b[1;31mTypeError\u001b[0m                                 Traceback (most recent call last)",
      "\u001b[1;32m~\\AppData\\Local\\Temp/ipykernel_3580/1368471172.py\u001b[0m in \u001b[0;36m<module>\u001b[1;34m\u001b[0m\n\u001b[0;32m      1\u001b[0m \u001b[0mnum\u001b[0m \u001b[1;33m=\u001b[0m \u001b[0mint\u001b[0m\u001b[1;33m(\u001b[0m\u001b[0minput\u001b[0m\u001b[1;33m(\u001b[0m\u001b[1;34m'enter how meny time do you repeat this loop'\u001b[0m\u001b[1;33m)\u001b[0m\u001b[1;33m)\u001b[0m\u001b[1;33m\u001b[0m\u001b[1;33m\u001b[0m\u001b[0m\n\u001b[1;32m----> 2\u001b[1;33m \u001b[1;32mfor\u001b[0m \u001b[0mi\u001b[0m \u001b[1;32min\u001b[0m \u001b[0mnum\u001b[0m\u001b[1;33m:\u001b[0m\u001b[1;33m\u001b[0m\u001b[1;33m\u001b[0m\u001b[0m\n\u001b[0m\u001b[0;32m      3\u001b[0m     \u001b[0mprint\u001b[0m\u001b[1;33m(\u001b[0m\u001b[0mi\u001b[0m\u001b[1;33m)\u001b[0m\u001b[1;33m\u001b[0m\u001b[1;33m\u001b[0m\u001b[0m\n\u001b[0;32m      4\u001b[0m     \u001b[0mi\u001b[0m \u001b[1;33m=\u001b[0m \u001b[0mi\u001b[0m\u001b[1;33m+\u001b[0m\u001b[1;36m1\u001b[0m\u001b[1;33m\u001b[0m\u001b[1;33m\u001b[0m\u001b[0m\n",
      "\u001b[1;31mTypeError\u001b[0m: 'int' object is not iterable"
     ]
    }
   ],
   "source": [
    "num = int(input('enter how meny time do you repeat this loop'))\n",
    "for i in num:\n",
    "    print(i)\n",
    "    i = i+1"
   ]
  },
  {
   "cell_type": "code",
   "execution_count": 3,
   "metadata": {},
   "outputs": [
    {
     "name": "stdout",
     "output_type": "stream",
     "text": [
      "0\n",
      "1\n",
      "2\n",
      "3\n",
      "4\n",
      "5\n",
      "6\n",
      "7\n",
      "8\n",
      "9\n",
      "10\n"
     ]
    }
   ],
   "source": [
    "# while loop\n",
    "# syntax\n",
    "\n",
    "# while boolean_expresion:\n",
    "    # statement(s)\n",
    "    # increment/decrement counter\n",
    "num = 10\n",
    "num1 = 0\n",
    "while (num1 <= num):\n",
    "    print(num1)\n",
    "    num1 = num1 + 1"
   ]
  },
  {
   "cell_type": "code",
   "execution_count": 11,
   "metadata": {},
   "outputs": [
    {
     "name": "stdout",
     "output_type": "stream",
     "text": [
      "4\n",
      "5\n",
      "6\n",
      "7\n",
      "8\n"
     ]
    }
   ],
   "source": [
    "num = 5\n",
    "num1 = 4\n",
    "while (num < 10):\n",
    "    while (num1 < num):\n",
    "        print(num1)\n",
    "        num1 = num1 + 1\n",
    "    num = num + 1"
   ]
  },
  {
   "cell_type": "code",
   "execution_count": 19,
   "metadata": {},
   "outputs": [
    {
     "name": "stdout",
     "output_type": "stream",
     "text": [
      "w\n",
      "e\n",
      "Out of for loop\n",
      "w\n",
      "e\n",
      "Out of for loop\n",
      "\n"
     ]
    }
   ],
   "source": [
    "# break, continue and pass break\n",
    "\n",
    "# Python program to\n",
    "# demonstrate break statement\n",
    "text = 'webdevelopmentwithdjango'\n",
    "# Using for loop\n",
    "for letter in text:\n",
    "    print(letter)\n",
    "    if letter == 'e' or letter == 'p':\n",
    "        break\n",
    "print(\"Out of for loop\")\n",
    "for letter in text:\n",
    "    print(letter)\n",
    "    if letter != 'w' :\n",
    "        break\n",
    "print(\"Out of for loop\")\n",
    "print()"
   ]
  },
  {
   "cell_type": "code",
   "execution_count": 22,
   "metadata": {},
   "outputs": [
    {
     "name": "stdout",
     "output_type": "stream",
     "text": [
      "s\n",
      "a\n",
      "n\n",
      "c\n",
      "h\n",
      "a\n",
      "y\n",
      "Out of for loop\n",
      "\n"
     ]
    }
   ],
   "source": [
    "#continue\n",
    "# Python program to\n",
    "# demonstrate cotinue statement\n",
    "text = 'sanchay'\n",
    "# Using for loop\n",
    "for letter in text:\n",
    "    print(letter)\n",
    "    if letter == 'n' or letter == 'p':\n",
    "        continue\n",
    "print(\"Out of for loop\")\n",
    "print()"
   ]
  },
  {
   "cell_type": "code",
   "execution_count": 27,
   "metadata": {},
   "outputs": [
    {
     "name": "stdout",
     "output_type": "stream",
     "text": [
      "smart\n",
      "boy\n",
      "good\n",
      "girl\n",
      "people\n"
     ]
    }
   ],
   "source": [
    "# pass\n",
    "li =['smart', 'boy', 'good', 'girl' , 'bad', 'people']\n",
    "for i in li:\n",
    "    if(i =='bad'):\n",
    "        pass\n",
    "    else:\n",
    "        print(i)\n"
   ]
  },
  {
   "cell_type": "code",
   "execution_count": 1,
   "metadata": {},
   "outputs": [
    {
     "name": "stdout",
     "output_type": "stream",
     "text": [
      "['smart', 'kalaiya', 'bara', 'bira']\n",
      "['smart', 'kalaiya', 'bara', 'bira']\n",
      "['smart', 'kalaiya', 'bara', 'bira']\n"
     ]
    }
   ],
   "source": [
    "detail = [ input('enter name'), input('enter address'), input('enter district'), input('enter f_name')]\n",
    "for i in detail:\n",
    "    if (i== 'sanchay'):\n",
    "        pass\n",
    "    elif (i == 'bara'):\n",
    "        continue\n",
    "    elif (i == 'dohari'):\n",
    "        break\n",
    "    print(detail)"
   ]
  },
  {
   "cell_type": "code",
   "execution_count": null,
   "metadata": {},
   "outputs": [],
   "source": []
  }
 ],
 "metadata": {
  "interpreter": {
   "hash": "425c3147bdf2fb36237404c004292e2189cd3e10def4ffcd2833c9f12b0efa60"
  },
  "kernelspec": {
   "display_name": "Python 3.9.8 64-bit",
   "language": "python",
   "name": "python3"
  },
  "language_info": {
   "codemirror_mode": {
    "name": "ipython",
    "version": 3
   },
   "file_extension": ".py",
   "mimetype": "text/x-python",
   "name": "python",
   "nbconvert_exporter": "python",
   "pygments_lexer": "ipython3",
   "version": "3.9.8"
  },
  "orig_nbformat": 4
 },
 "nbformat": 4,
 "nbformat_minor": 2
}
