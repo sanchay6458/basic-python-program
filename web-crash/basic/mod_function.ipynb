{
 "cells": [
  {
   "cell_type": "code",
   "execution_count": 15,
   "metadata": {},
   "outputs": [
    {
     "name": "stdout",
     "output_type": "stream",
     "text": [
      "12\n"
     ]
    }
   ],
   "source": [
    "# Functions and Modules\n",
    "\n",
    "# Built in Functions:- Those type of function which is already define or built  in the the program. User can use this function withaut any deficult. This function is called Built in function.\n",
    "# example:- print(), int(), float(), etc\n",
    " # using print() built in function.\n",
    "\n",
    "a = int(input('enter the first value'))  # using 2 built in function one is int()  and another is input()\n",
    "b = int(input('enter the second value'))\n",
    "sum = a+b\n",
    "print(sum) #using print() built in function to print the result."
   ]
  },
  {
   "cell_type": "code",
   "execution_count": 16,
   "metadata": {},
   "outputs": [
    {
     "name": "stdout",
     "output_type": "stream",
     "text": [
      "8\n"
     ]
    }
   ],
   "source": [
    "# User defined functions:- Those function which is created by the user for our requirement. this is called user define function.\n",
    "# User can be create function by using 'def' keyword.\n",
    "# Syntax:-\n",
    "#  def function_name(parameters):\n",
    "    # \"\"\"docstring\"\"\"\n",
    "    # statement(s)\n",
    "    # return expression\n",
    "\n",
    "# Examples:\n",
    "def add(a=4, b=4): # Create Function By using two parameters a and b\n",
    "    sum= a+b # statement-1 Adding\n",
    "    print(sum) #statement-2 print result\n",
    "add() #Calling the function"
   ]
  },
  {
   "cell_type": "code",
   "execution_count": 18,
   "metadata": {},
   "outputs": [
    {
     "name": "stdout",
     "output_type": "stream",
     "text": [
      "hello master\n"
     ]
    }
   ],
   "source": [
    "# Without passing parameters\n",
    "def fun():\n",
    "    print(\"hello master\")\n",
    "fun()"
   ]
  },
  {
   "cell_type": "code",
   "execution_count": 20,
   "metadata": {},
   "outputs": [
    {
     "name": "stdout",
     "output_type": "stream",
     "text": [
      "hello Sanchay\n",
      "hello Master\n",
      "hello Smart Boy\n",
      "hello Ram\n",
      "None\n"
     ]
    }
   ],
   "source": [
    "#normal argument\n",
    "def hello(name):\n",
    "    #\"\"\"Function that takes an argument in name and display hello {name}\"\"\"\n",
    "    print(f\"hello {name}\")\n",
    "#default argument\n",
    "def hello2(name=\"Sanchay\"):\n",
    "    print(f\"hello {name}\")\n",
    "#keyword arguments\n",
    "def hello3(fname,lname):\n",
    "    print(f\"hello {fname} {lname}\")\n",
    "    hello('Ram')\n",
    "hello2()\n",
    "hello2('Master')\n",
    "a = 'Smart'\n",
    "b = 'Boy'\n",
    "hello3(fname=a,lname=b)\n",
    "#print(hello.__doc__)"
   ]
  },
  {
   "cell_type": "code",
   "execution_count": 23,
   "metadata": {},
   "outputs": [
    {
     "name": "stdout",
     "output_type": "stream",
     "text": [
      "Hello\n",
      "master\n",
      "welcome\n",
      "to\n",
      "1\n",
      "4\n",
      "3\n",
      "1\n",
      "4\n",
      "3\n"
     ]
    }
   ],
   "source": [
    "#variable length arguments\n",
    "# *args and **kwargs\n",
    "#*args will be a tuple containing all values that are passed in.\n",
    "def myFun(*a):\n",
    "    for ele in a:\n",
    "        print(ele)\n",
    "myFun('Hello', 'master', 'welcome', 'to',1,4,3)\n",
    "myFun(1,4,3)"
   ]
  },
  {
   "cell_type": "code",
   "execution_count": 25,
   "metadata": {},
   "outputs": [
    {
     "name": "stdout",
     "output_type": "stream",
     "text": [
      "{'first': 'sanchay', 'mid': 'is the best', 'last': 'Programmer'}\n",
      "<class 'dict'>\n"
     ]
    }
   ],
   "source": [
    "#**kwargs will be a dictionary containing the names as keys and the values as values\n",
    "def myFun(**kwargs):\n",
    "    print(kwargs)\n",
    "    print(type(kwargs))\n",
    "\n",
    "myFun(first='sanchay', mid='is the best', last='Programmer')"
   ]
  },
  {
   "cell_type": "code",
   "execution_count": 28,
   "metadata": {},
   "outputs": [
    {
     "name": "stdout",
     "output_type": "stream",
     "text": [
      "7\n",
      "9\n",
      "13\n"
     ]
    }
   ],
   "source": [
    "# function that returns\n",
    "def good(n1, n2):\n",
    "    sum = n1 + n2\n",
    "    return sum \n",
    "print(good(3,4))\n",
    "c=5\n",
    "d=4\n",
    "e = good(c,d)\n",
    "print(e)\n",
    "f= good(6,7)\n",
    "print(f)"
   ]
  },
  {
   "cell_type": "code",
   "execution_count": 29,
   "metadata": {},
   "outputs": [
    {
     "name": "stdout",
     "output_type": "stream",
     "text": [
      "<class 'int'>\n",
      "<class 'str'>\n",
      "7\n"
     ]
    }
   ],
   "source": [
    "# Send integer value and print string valuee by using return method.\n",
    "def integer(a,b): \n",
    "    add = a + b\n",
    "    print(type(add))\n",
    "    return add \n",
    "c = str(integer(3,4)) \n",
    "print(type(c))\n",
    "print(c)"
   ]
  },
  {
   "cell_type": "code",
   "execution_count": 31,
   "metadata": {},
   "outputs": [
    {
     "name": "stdout",
     "output_type": "stream",
     "text": [
      "hello smart boy, how are you?\n"
     ]
    }
   ],
   "source": [
    "def hello(name):\n",
    "    result = f\"hello {name}, how are you?\"\n",
    "    return result\n",
    "name = hello('smart boy')\n",
    "print(name)"
   ]
  },
  {
   "cell_type": "code",
   "execution_count": 33,
   "metadata": {},
   "outputs": [
    {
     "name": "stdout",
     "output_type": "stream",
     "text": [
      "4\n",
      "2\n"
     ]
    }
   ],
   "source": [
    "def absolute_value(num):\n",
    "    # \"\"\"This function returns the absolute\n",
    "    # value of the entered number\"\"\"\n",
    "    if num >= 0:\n",
    "        return num\n",
    "    else:\n",
    "        return -num\n",
    "\n",
    "print(absolute_value(-4))\n",
    "print(absolute_value(-2))"
   ]
  },
  {
   "cell_type": "code",
   "execution_count": 35,
   "metadata": {},
   "outputs": [
    {
     "name": "stdout",
     "output_type": "stream",
     "text": [
      "Inside Function: Sanchay\n",
      "Miss you Python\n"
     ]
    }
   ],
   "source": [
    "# Global and local variables: We are declear the variable inside the function is called local variable and out side declear of variable is called global variable\n",
    "\n",
    "def f():\n",
    "    # local variable\n",
    "    s = \"Sanchay\"\n",
    "    print(\"Inside Function:\", s)\n",
    "s = 'Miss you Python' #global variable\n",
    "f()\n",
    "print(s)"
   ]
  },
  {
   "cell_type": "code",
   "execution_count": 36,
   "metadata": {},
   "outputs": [
    {
     "name": "stdout",
     "output_type": "stream",
     "text": [
      "216\n",
      "125\n"
     ]
    }
   ],
   "source": [
    "# lambda function\n",
    "\n",
    "# Python code to illustrate cube of a number\n",
    "# showing difference between def() and lambda().\n",
    "\n",
    "# using the normally defined function\n",
    "def cube(a):\n",
    "    return a*a*a \n",
    "print(cube(6))\n",
    "\n",
    "# using the lambda function\n",
    "lambda_cube = lambda c: c*c*c\n",
    "\n",
    "print(lambda_cube(5))"
   ]
  },
  {
   "cell_type": "code",
   "execution_count": 38,
   "metadata": {},
   "outputs": [
    {
     "name": "stdout",
     "output_type": "stream",
     "text": [
      "[6, 22, 'namename', 'goodgood', 108, 'hellohello', 154, 46, 146, 122]\n"
     ]
    }
   ],
   "source": [
    "# lambda with map()\n",
    "# Syntax:-\n",
    "            # map(function, sequence)\n",
    "\n",
    "# Python code to illustrate\n",
    "# map() with lambda()\n",
    "# to get double of a list.\n",
    "li = [3, 11, 'name', 'good' , 54, 'hello' , 77, 23, 73, 61]\n",
    "final_list = list(map(lambda x: x*2, li))\n",
    "print(final_list)"
   ]
  },
  {
   "cell_type": "code",
   "execution_count": 41,
   "metadata": {},
   "outputs": [
    {
     "name": "stdout",
     "output_type": "stream",
     "text": [
      "[22, 54, 62]\n"
     ]
    }
   ],
   "source": [
    "# lambda with filter()\n",
    "# Syntax:- \n",
    "            # filter(function, sequence)\n",
    "\n",
    "# Python code to illustrate\n",
    "# filter() with lambda()\n",
    "li = [5, 7, 22, 97, 54, 62, 77, 23, 73, 61]\n",
    "final_list = list(filter(lambda x: (x%2 == 0) , li))\n",
    "print(final_list)"
   ]
  },
  {
   "cell_type": "code",
   "execution_count": 47,
   "metadata": {},
   "outputs": [
    {
     "name": "stdout",
     "output_type": "stream",
     "text": [
      "12\n",
      "12\n",
      "8\n"
     ]
    }
   ],
   "source": [
    "# Import Module in Python – Import statement\n",
    "# importing module calc.py\n",
    "import co\n",
    "print(co.mul(10, 2))\n",
    "print(co.add(10, 2))\n",
    "print(co.subtract(10, 2))"
   ]
  },
  {
   "cell_type": "code",
   "execution_count": 1,
   "metadata": {},
   "outputs": [],
   "source": [
    "# #factorial\n",
    "# import co\n",
    "# print(co.factorial(4))"
   ]
  },
  {
   "cell_type": "code",
   "execution_count": null,
   "metadata": {},
   "outputs": [],
   "source": []
  }
 ],
 "metadata": {
  "interpreter": {
   "hash": "425c3147bdf2fb36237404c004292e2189cd3e10def4ffcd2833c9f12b0efa60"
  },
  "kernelspec": {
   "display_name": "Python 3.9.8 64-bit",
   "language": "python",
   "name": "python3"
  },
  "language_info": {
   "codemirror_mode": {
    "name": "ipython",
    "version": 3
   },
   "file_extension": ".py",
   "mimetype": "text/x-python",
   "name": "python",
   "nbconvert_exporter": "python",
   "pygments_lexer": "ipython3",
   "version": "3.9.8"
  },
  "orig_nbformat": 4
 },
 "nbformat": 4,
 "nbformat_minor": 2
}
